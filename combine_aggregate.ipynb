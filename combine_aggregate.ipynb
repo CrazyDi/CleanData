{
 "cells": [
  {
   "cell_type": "code",
   "execution_count": 1,
   "metadata": {
    "collapsed": true
   },
   "outputs": [],
   "source": [
    "import pandas as pd\n",
    "import cleandata.combineagg as ca"
   ]
  },
  {
   "cell_type": "code",
   "execution_count": 2,
   "outputs": [],
   "source": [
    "coviddaily = pd.read_csv('data/coviddaily720.csv')\n",
    "ltbrazil = pd.read_csv('data/ltbrazil.csv')\n",
    "countries = pd.read_csv('data/ltcountries.csv')\n",
    "locations = pd.read_csv('data/ltlocations.csv')"
   ],
   "metadata": {
    "collapsed": false,
    "pycharm": {
     "name": "#%%\n"
    }
   }
  },
  {
   "cell_type": "code",
   "execution_count": 3,
   "outputs": [
    {
     "data": {
      "text/plain": "             by_var     avg_var  sum_var  by_var_cnt\n0       Afghanistan  186.221622  34451.0         185\n1           Albania   26.753968   3371.0         126\n2           Algeria   98.484211  18712.0         190\n3           Andorra    7.066116    855.0         121\n4            Angola    4.274336    483.0         113\n..              ...         ...      ...         ...\n204         Vietnam    1.937173    370.0         191\n205  Western Sahara    6.653846    519.0          78\n206           Yemen   14.776596   1389.0          94\n207          Zambia   16.336207   1895.0         116\n208        Zimbabwe    8.614035    982.0         114\n\n[209 rows x 4 columns]",
      "text/html": "<div>\n<style scoped>\n    .dataframe tbody tr th:only-of-type {\n        vertical-align: middle;\n    }\n\n    .dataframe tbody tr th {\n        vertical-align: top;\n    }\n\n    .dataframe thead th {\n        text-align: right;\n    }\n</style>\n<table border=\"1\" class=\"dataframe\">\n  <thead>\n    <tr style=\"text-align: right;\">\n      <th></th>\n      <th>by_var</th>\n      <th>avg_var</th>\n      <th>sum_var</th>\n      <th>by_var_cnt</th>\n    </tr>\n  </thead>\n  <tbody>\n    <tr>\n      <th>0</th>\n      <td>Afghanistan</td>\n      <td>186.221622</td>\n      <td>34451.0</td>\n      <td>185</td>\n    </tr>\n    <tr>\n      <th>1</th>\n      <td>Albania</td>\n      <td>26.753968</td>\n      <td>3371.0</td>\n      <td>126</td>\n    </tr>\n    <tr>\n      <th>2</th>\n      <td>Algeria</td>\n      <td>98.484211</td>\n      <td>18712.0</td>\n      <td>190</td>\n    </tr>\n    <tr>\n      <th>3</th>\n      <td>Andorra</td>\n      <td>7.066116</td>\n      <td>855.0</td>\n      <td>121</td>\n    </tr>\n    <tr>\n      <th>4</th>\n      <td>Angola</td>\n      <td>4.274336</td>\n      <td>483.0</td>\n      <td>113</td>\n    </tr>\n    <tr>\n      <th>...</th>\n      <td>...</td>\n      <td>...</td>\n      <td>...</td>\n      <td>...</td>\n    </tr>\n    <tr>\n      <th>204</th>\n      <td>Vietnam</td>\n      <td>1.937173</td>\n      <td>370.0</td>\n      <td>191</td>\n    </tr>\n    <tr>\n      <th>205</th>\n      <td>Western Sahara</td>\n      <td>6.653846</td>\n      <td>519.0</td>\n      <td>78</td>\n    </tr>\n    <tr>\n      <th>206</th>\n      <td>Yemen</td>\n      <td>14.776596</td>\n      <td>1389.0</td>\n      <td>94</td>\n    </tr>\n    <tr>\n      <th>207</th>\n      <td>Zambia</td>\n      <td>16.336207</td>\n      <td>1895.0</td>\n      <td>116</td>\n    </tr>\n    <tr>\n      <th>208</th>\n      <td>Zimbabwe</td>\n      <td>8.614035</td>\n      <td>982.0</td>\n      <td>114</td>\n    </tr>\n  </tbody>\n</table>\n<p>209 rows × 4 columns</p>\n</div>"
     },
     "execution_count": 3,
     "metadata": {},
     "output_type": "execute_result"
    }
   ],
   "source": [
    "ca.adj_means(coviddaily, 'location', 'new_cases', 'casedate')"
   ],
   "metadata": {
    "collapsed": false,
    "pycharm": {
     "name": "#%%\n"
    }
   }
  },
  {
   "cell_type": "code",
   "execution_count": 4,
   "outputs": [
    {
     "data": {
      "text/plain": "             by_var     avg_var  sum_var  by_var_cnt\n0       Afghanistan  141.968750  22715.0         160\n1           Albania   26.753968   3371.0         126\n2           Algeria   94.133690  17603.0         187\n3           Andorra    7.066116    855.0         121\n4            Angola    4.274336    483.0         113\n..              ...         ...      ...         ...\n204         Vietnam    1.937173    370.0         191\n205  Western Sahara    2.186667    164.0          75\n206           Yemen   14.776596   1389.0          94\n207          Zambia   11.190909   1231.0         110\n208        Zimbabwe    8.614035    982.0         114\n\n[209 rows x 4 columns]",
      "text/html": "<div>\n<style scoped>\n    .dataframe tbody tr th:only-of-type {\n        vertical-align: middle;\n    }\n\n    .dataframe tbody tr th {\n        vertical-align: top;\n    }\n\n    .dataframe thead th {\n        text-align: right;\n    }\n</style>\n<table border=\"1\" class=\"dataframe\">\n  <thead>\n    <tr style=\"text-align: right;\">\n      <th></th>\n      <th>by_var</th>\n      <th>avg_var</th>\n      <th>sum_var</th>\n      <th>by_var_cnt</th>\n    </tr>\n  </thead>\n  <tbody>\n    <tr>\n      <th>0</th>\n      <td>Afghanistan</td>\n      <td>141.968750</td>\n      <td>22715.0</td>\n      <td>160</td>\n    </tr>\n    <tr>\n      <th>1</th>\n      <td>Albania</td>\n      <td>26.753968</td>\n      <td>3371.0</td>\n      <td>126</td>\n    </tr>\n    <tr>\n      <th>2</th>\n      <td>Algeria</td>\n      <td>94.133690</td>\n      <td>17603.0</td>\n      <td>187</td>\n    </tr>\n    <tr>\n      <th>3</th>\n      <td>Andorra</td>\n      <td>7.066116</td>\n      <td>855.0</td>\n      <td>121</td>\n    </tr>\n    <tr>\n      <th>4</th>\n      <td>Angola</td>\n      <td>4.274336</td>\n      <td>483.0</td>\n      <td>113</td>\n    </tr>\n    <tr>\n      <th>...</th>\n      <td>...</td>\n      <td>...</td>\n      <td>...</td>\n      <td>...</td>\n    </tr>\n    <tr>\n      <th>204</th>\n      <td>Vietnam</td>\n      <td>1.937173</td>\n      <td>370.0</td>\n      <td>191</td>\n    </tr>\n    <tr>\n      <th>205</th>\n      <td>Western Sahara</td>\n      <td>2.186667</td>\n      <td>164.0</td>\n      <td>75</td>\n    </tr>\n    <tr>\n      <th>206</th>\n      <td>Yemen</td>\n      <td>14.776596</td>\n      <td>1389.0</td>\n      <td>94</td>\n    </tr>\n    <tr>\n      <th>207</th>\n      <td>Zambia</td>\n      <td>11.190909</td>\n      <td>1231.0</td>\n      <td>110</td>\n    </tr>\n    <tr>\n      <th>208</th>\n      <td>Zimbabwe</td>\n      <td>8.614035</td>\n      <td>982.0</td>\n      <td>114</td>\n    </tr>\n  </tbody>\n</table>\n<p>209 rows × 4 columns</p>\n</div>"
     },
     "execution_count": 4,
     "metadata": {},
     "output_type": "execute_result"
    }
   ],
   "source": [
    "ca.adj_means(coviddaily, 'location', 'new_cases', 'casedate', 150)"
   ],
   "metadata": {
    "collapsed": false,
    "pycharm": {
     "name": "#%%\n"
    }
   }
  },
  {
   "cell_type": "code",
   "execution_count": 5,
   "outputs": [
    {
     "name": "stdout",
     "output_type": "stream",
     "text": [
      "in_right  N      Y\n",
      "in_left           \n",
      "N         0      1\n",
      "Y         2  27472\n",
      "      countryid in_left in_right\n",
      "9715         LQ       Y        N\n",
      "13103        ST       Y        N\n",
      "27474        FO       N        Y\n"
     ]
    }
   ],
   "source": [
    "ca.check_merge(countries.copy(), locations.copy(), \"countryid\", \"countryid\")"
   ],
   "metadata": {
    "collapsed": false,
    "pycharm": {
     "name": "#%%\n"
    }
   }
  },
  {
   "cell_type": "code",
   "execution_count": 6,
   "outputs": [
    {
     "name": "stdout",
     "output_type": "stream",
     "text": [
      "ltbrazil.csv has 1104 rows.\n",
      "ltcameroon.csv has 48 rows.\n",
      "ltindia.csv has 1056 rows.\n",
      "ltjapan.csv has 1800 rows.\n",
      "ltmexico.csv has 852 rows.\n",
      "ltoman.csv has 288 rows.\n",
      "\n",
      "Different columns names for: \n",
      "ltoman.csv\n",
      "Index(['latabs'], dtype='object')\n",
      "\n",
      "ltpoland.csv has 120 rows.\n",
      "Columns Matched:  False\n"
     ]
    }
   ],
   "source": [
    "landtemps = ca.add_files(\"data/ltcountry\")"
   ],
   "metadata": {
    "collapsed": false,
    "pycharm": {
     "name": "#%%\n"
    }
   }
  }
 ],
 "metadata": {
  "kernelspec": {
   "display_name": "Python 3",
   "language": "python",
   "name": "python3"
  },
  "language_info": {
   "codemirror_mode": {
    "name": "ipython",
    "version": 2
   },
   "file_extension": ".py",
   "mimetype": "text/x-python",
   "name": "python",
   "nbconvert_exporter": "python",
   "pygments_lexer": "ipython2",
   "version": "2.7.6"
  }
 },
 "nbformat": 4,
 "nbformat_minor": 0
}