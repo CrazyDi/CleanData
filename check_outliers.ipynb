{
 "cells": [
  {
   "cell_type": "code",
   "execution_count": 1,
   "metadata": {
    "collapsed": true
   },
   "outputs": [],
   "source": [
    "import pandas as pd\n",
    "import pprint\n",
    "\n",
    "import cleandata.outliers as ol"
   ]
  },
  {
   "cell_type": "code",
   "execution_count": 2,
   "outputs": [],
   "source": [
    "nls97 = pd.read_csv('data/nls97f.csv')\n",
    "nls97.set_index('personid', inplace=True)\n",
    "covidtotals = pd.read_csv('data/covidtotals720.csv')"
   ],
   "metadata": {
    "collapsed": false,
    "pycharm": {
     "name": "#%%\n"
    }
   }
  },
  {
   "cell_type": "code",
   "execution_count": 3,
   "outputs": [
    {
     "name": "stdout",
     "output_type": "stream",
     "text": [
      "{'count': 209,\n",
      " 'kurtosis': 26.137524276840452,\n",
      " 'mean': 2297.02214354067,\n",
      " 'median': 868.866,\n",
      " 'norm_p_value': '0.0: Reject Normal',\n",
      " 'norm_stat': 0.5617035627365112,\n",
      " 'skew': 4.284484653881833,\n",
      " 'std': 4039.8402026537815}\n"
     ]
    }
   ],
   "source": [
    "dist = ol.get_dist_prop(covidtotals.total_cases_pm)\n",
    "pprint.pprint(dist)"
   ],
   "metadata": {
    "collapsed": false,
    "pycharm": {
     "name": "#%%\n"
    }
   }
  },
  {
   "cell_type": "code",
   "execution_count": 4,
   "outputs": [
    {
     "data": {
      "text/plain": "satmath        10\nwageincome    260\nName: varname, dtype: int64"
     },
     "execution_count": 4,
     "metadata": {},
     "output_type": "execute_result"
    }
   ],
   "source": [
    "sum_vars = ['satmath', 'wageincome']\n",
    "other_vars = ['originalid','highestdegree','gender','maritalstatus']\n",
    "outliers = ol.get_outliers(nls97, sum_vars, other_vars)\n",
    "outliers.varname.value_counts(sort=False)"
   ],
   "metadata": {
    "collapsed": false,
    "pycharm": {
     "name": "#%%\n"
    }
   }
  },
  {
   "cell_type": "code",
   "execution_count": 5,
   "outputs": [
    {
     "data": {
      "text/plain": "       originalid   highestdegree  gender  maritalstatus  satmath  wageincome\n223058       6696         0. None  Female  Never-married     46.0     30000.0\n267254       1622  2. High School  Female  Never-married     48.0    100000.0\n291029       7088  2. High School  Female            NaN     51.0         NaN\n337438        159  2. High School  Female        Married    200.0         NaN\n399109       3883  2. High School  Female            NaN     36.0         NaN\n448463        326    4. Bachelors  Female            NaN     47.0         NaN\n738290       7705         0. None  Female            NaN      7.0         NaN\n748274       3394    4. Bachelors    Male        Married     42.0         NaN\n799095        535      5. Masters  Female  Never-married     59.0    120000.0\n955430       2547  2. High School  Female        Married    200.0         NaN",
      "text/html": "<div>\n<style scoped>\n    .dataframe tbody tr th:only-of-type {\n        vertical-align: middle;\n    }\n\n    .dataframe tbody tr th {\n        vertical-align: top;\n    }\n\n    .dataframe thead th {\n        text-align: right;\n    }\n</style>\n<table border=\"1\" class=\"dataframe\">\n  <thead>\n    <tr style=\"text-align: right;\">\n      <th></th>\n      <th>originalid</th>\n      <th>highestdegree</th>\n      <th>gender</th>\n      <th>maritalstatus</th>\n      <th>satmath</th>\n      <th>wageincome</th>\n    </tr>\n  </thead>\n  <tbody>\n    <tr>\n      <th>223058</th>\n      <td>6696</td>\n      <td>0. None</td>\n      <td>Female</td>\n      <td>Never-married</td>\n      <td>46.0</td>\n      <td>30000.0</td>\n    </tr>\n    <tr>\n      <th>267254</th>\n      <td>1622</td>\n      <td>2. High School</td>\n      <td>Female</td>\n      <td>Never-married</td>\n      <td>48.0</td>\n      <td>100000.0</td>\n    </tr>\n    <tr>\n      <th>291029</th>\n      <td>7088</td>\n      <td>2. High School</td>\n      <td>Female</td>\n      <td>NaN</td>\n      <td>51.0</td>\n      <td>NaN</td>\n    </tr>\n    <tr>\n      <th>337438</th>\n      <td>159</td>\n      <td>2. High School</td>\n      <td>Female</td>\n      <td>Married</td>\n      <td>200.0</td>\n      <td>NaN</td>\n    </tr>\n    <tr>\n      <th>399109</th>\n      <td>3883</td>\n      <td>2. High School</td>\n      <td>Female</td>\n      <td>NaN</td>\n      <td>36.0</td>\n      <td>NaN</td>\n    </tr>\n    <tr>\n      <th>448463</th>\n      <td>326</td>\n      <td>4. Bachelors</td>\n      <td>Female</td>\n      <td>NaN</td>\n      <td>47.0</td>\n      <td>NaN</td>\n    </tr>\n    <tr>\n      <th>738290</th>\n      <td>7705</td>\n      <td>0. None</td>\n      <td>Female</td>\n      <td>NaN</td>\n      <td>7.0</td>\n      <td>NaN</td>\n    </tr>\n    <tr>\n      <th>748274</th>\n      <td>3394</td>\n      <td>4. Bachelors</td>\n      <td>Male</td>\n      <td>Married</td>\n      <td>42.0</td>\n      <td>NaN</td>\n    </tr>\n    <tr>\n      <th>799095</th>\n      <td>535</td>\n      <td>5. Masters</td>\n      <td>Female</td>\n      <td>Never-married</td>\n      <td>59.0</td>\n      <td>120000.0</td>\n    </tr>\n    <tr>\n      <th>955430</th>\n      <td>2547</td>\n      <td>2. High School</td>\n      <td>Female</td>\n      <td>Married</td>\n      <td>200.0</td>\n      <td>NaN</td>\n    </tr>\n  </tbody>\n</table>\n</div>"
     },
     "execution_count": 5,
     "metadata": {},
     "output_type": "execute_result"
    }
   ],
   "source": [
    "outliers.loc[outliers.varname == 'satmath', other_vars + sum_vars]"
   ],
   "metadata": {
    "collapsed": false,
    "pycharm": {
     "name": "#%%\n"
    }
   }
  },
  {
   "cell_type": "code",
   "execution_count": 6,
   "outputs": [
    {
     "data": {
      "text/plain": "<Figure size 432x288 with 1 Axes>",
      "image/png": "[encoded data removed]"
     },
     "metadata": {
      "needs_background": "light"
     },
     "output_type": "display_data"
    }
   ],
   "source": [
    "ol.make_plot(nls97.satmath, \"Histogram of SAT Math\", \"SAT Math\")"
   ],
   "metadata": {
    "collapsed": false,
    "pycharm": {
     "name": "#%%\n"
    }
   }
  },
  {
   "cell_type": "code",
   "execution_count": 7,
   "outputs": [
    {
     "data": {
      "text/plain": "<Figure size 432x288 with 1 Axes>",
      "image/png": "[encoded data removed]"
     },
     "metadata": {
      "needs_background": "light"
     },
     "output_type": "display_data"
    }
   ],
   "source": [
    "ol.make_plot(nls97.satmath, \"Boxplot of SAT Math\", \"SAT Math\", \"box\")"
   ],
   "metadata": {
    "collapsed": false,
    "pycharm": {
     "name": "#%%\n"
    }
   }
  }
 ],
 "metadata": {
  "kernelspec": {
   "display_name": "Python 3",
   "language": "python",
   "name": "python3"
  },
  "language_info": {
   "codemirror_mode": {
    "name": "ipython",
    "version": 2
   },
   "file_extension": ".py",
   "mimetype": "text/x-python",
   "name": "python",
   "nbconvert_exporter": "python",
   "pygments_lexer": "ipython2",
   "version": "2.7.6"
  }
 },
 "nbformat": 4,
 "nbformat_minor": 0
}